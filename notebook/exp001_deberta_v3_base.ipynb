{
 "cells": [
  {
   "cell_type": "code",
   "execution_count": 14,
   "metadata": {},
   "outputs": [],
   "source": [
    "import pandas as pd\n",
    "import matplotlib.pyplot as plt\n",
    "train_df = pd.read_csv('/home/sumiya/signate/student2022/code/deberta_v3_large/Input/train_preprocessed.csv')\n",
    "test_df = pd.read_csv('/home/sumiya/signate/student2022/code/deberta_v3_large/Input/test_preprocessed.csv')"
   ]
  },
  {
   "cell_type": "code",
   "execution_count": 15,
   "metadata": {},
   "outputs": [
    {
     "data": {
      "text/html": [
       "<div>\n",
       "<style scoped>\n",
       "    .dataframe tbody tr th:only-of-type {\n",
       "        vertical-align: middle;\n",
       "    }\n",
       "\n",
       "    .dataframe tbody tr th {\n",
       "        vertical-align: top;\n",
       "    }\n",
       "\n",
       "    .dataframe thead th {\n",
       "        text-align: right;\n",
       "    }\n",
       "</style>\n",
       "<table border=\"1\" class=\"dataframe\">\n",
       "  <thead>\n",
       "    <tr style=\"text-align: right;\">\n",
       "      <th></th>\n",
       "      <th>id</th>\n",
       "      <th>description</th>\n",
       "      <th>jobflag</th>\n",
       "    </tr>\n",
       "  </thead>\n",
       "  <tbody>\n",
       "    <tr>\n",
       "      <th>0</th>\n",
       "      <td>0</td>\n",
       "      <td>develop cutting edge web application that perf...</td>\n",
       "      <td>2</td>\n",
       "    </tr>\n",
       "    <tr>\n",
       "      <th>1</th>\n",
       "      <td>1</td>\n",
       "      <td>design and develop high quality , scalable and...</td>\n",
       "      <td>2</td>\n",
       "    </tr>\n",
       "    <tr>\n",
       "      <th>2</th>\n",
       "      <td>2</td>\n",
       "      <td>function a a point person for network strategy...</td>\n",
       "      <td>3</td>\n",
       "    </tr>\n",
       "    <tr>\n",
       "      <th>3</th>\n",
       "      <td>3</td>\n",
       "      <td>work on the technical design , development , r...</td>\n",
       "      <td>2</td>\n",
       "    </tr>\n",
       "    <tr>\n",
       "      <th>4</th>\n",
       "      <td>4</td>\n",
       "      <td>quantify the resource require for a taskprojec...</td>\n",
       "      <td>3</td>\n",
       "    </tr>\n",
       "  </tbody>\n",
       "</table>\n",
       "</div>"
      ],
      "text/plain": [
       "   id                                        description  jobflag\n",
       "0   0  develop cutting edge web application that perf...        2\n",
       "1   1  design and develop high quality , scalable and...        2\n",
       "2   2  function a a point person for network strategy...        3\n",
       "3   3  work on the technical design , development , r...        2\n",
       "4   4  quantify the resource require for a taskprojec...        3"
      ]
     },
     "execution_count": 15,
     "metadata": {},
     "output_type": "execute_result"
    }
   ],
   "source": [
    "train_df.head()"
   ]
  },
  {
   "cell_type": "code",
   "execution_count": 16,
   "metadata": {},
   "outputs": [],
   "source": [
    "train_df['len'] = train_df['description'].str.split().str.len()\n",
    "test_df['len'] = test_df['description'].str.split().str.len()"
   ]
  },
  {
   "cell_type": "code",
   "execution_count": 17,
   "metadata": {},
   "outputs": [
    {
     "data": {
      "image/png": "[encoded data removed]",
      "text/plain": [
       "<Figure size 432x288 with 1 Axes>"
      ]
     },
     "metadata": {
      "needs_background": "light"
     },
     "output_type": "display_data"
    }
   ],
   "source": [
    "# 単語数\n",
    "plt.hist(train_df['len'], alpha=0.5)\n",
    "plt.hist(test_df['len'], alpha=0.5)\n",
    "plt.show()"
   ]
  },
  {
   "cell_type": "code",
   "execution_count": 2,
   "metadata": {},
   "outputs": [
    {
     "name": "stderr",
     "output_type": "stream",
     "text": [
      "Special tokens have been added in the vocabulary, make sure the associated word embeddings are fine-tuned or trained.\n"
     ]
    },
    {
     "data": {
      "text/plain": [
       "[[{'score': 0.5115271210670471,\n",
       "   'token': 967,\n",
       "   'token_str': 'web',\n",
       "   'sequence': \"develop cutting edge web application that perform [MASK] across all platform. work in a highly collaborative environment with cross functional team on project range from a few week to a few month in length. maintain high standard of quality a you creatively and strategically problem solve throughout the product delivery process. be able to effectively communicate your work with both technical and non technical peersbe excite about new web technologiestechniquesbuild solid front end architecture that integrate easily with other system and technologiesworking closely with other discipline back end, ux, design, qahave a superior attention to detail and a strong ability to qa one's own work require, include cross browser and cross platform display and performance\"},\n",
       "  {'score': 0.10561104118824005,\n",
       "   'token': 1380,\n",
       "   'token_str': 'mobile',\n",
       "   'sequence': \"develop cutting edge mobile application that perform [MASK] across all platform. work in a highly collaborative environment with cross functional team on project range from a few week to a few month in length. maintain high standard of quality a you creatively and strategically problem solve throughout the product delivery process. be able to effectively communicate your work with both technical and non technical peersbe excite about new web technologiestechniquesbuild solid front end architecture that integrate easily with other system and technologiesworking closely with other discipline back end, ux, design, qahave a superior attention to detail and a strong ability to qa one's own work require, include cross browser and cross platform display and performance\"},\n",
       "  {'score': 0.028235189616680145,\n",
       "   'token': 65998,\n",
       "   'token_str': 'ui',\n",
       "   'sequence': \"develop cutting edge ui application that perform [MASK] across all platform. work in a highly collaborative environment with cross functional team on project range from a few week to a few month in length. maintain high standard of quality a you creatively and strategically problem solve throughout the product delivery process. be able to effectively communicate your work with both technical and non technical peersbe excite about new web technologiestechniquesbuild solid front end architecture that integrate easily with other system and technologiesworking closely with other discipline back end, ux, design, qahave a superior attention to detail and a strong ability to qa one's own work require, include cross browser and cross platform display and performance\"},\n",
       "  {'score': 0.01682792231440544,\n",
       "   'token': 1412,\n",
       "   'token_str': 'digital',\n",
       "   'sequence': \"develop cutting edge digital application that perform [MASK] across all platform. work in a highly collaborative environment with cross functional team on project range from a few week to a few month in length. maintain high standard of quality a you creatively and strategically problem solve throughout the product delivery process. be able to effectively communicate your work with both technical and non technical peersbe excite about new web technologiestechniquesbuild solid front end architecture that integrate easily with other system and technologiesworking closely with other discipline back end, ux, design, qahave a superior attention to detail and a strong ability to qa one's own work require, include cross browser and cross platform display and performance\"},\n",
       "  {'score': 0.014795119874179363,\n",
       "   'token': 13137,\n",
       "   'token_str': 'ml',\n",
       "   'sequence': \"develop cutting edge ml application that perform [MASK] across all platform. work in a highly collaborative environment with cross functional team on project range from a few week to a few month in length. maintain high standard of quality a you creatively and strategically problem solve throughout the product delivery process. be able to effectively communicate your work with both technical and non technical peersbe excite about new web technologiestechniquesbuild solid front end architecture that integrate easily with other system and technologiesworking closely with other discipline back end, ux, design, qahave a superior attention to detail and a strong ability to qa one's own work require, include cross browser and cross platform display and performance\"}],\n",
       " [{'score': 0.15899179875850677,\n",
       "   'token': 2864,\n",
       "   'token_str': 'effectively',\n",
       "   'sequence': \"develop cutting edge [MASK] application that perform effectively across all platform. work in a highly collaborative environment with cross functional team on project range from a few week to a few month in length. maintain high standard of quality a you creatively and strategically problem solve throughout the product delivery process. be able to effectively communicate your work with both technical and non technical peersbe excite about new web technologiestechniquesbuild solid front end architecture that integrate easily with other system and technologiesworking closely with other discipline back end, ux, design, qahave a superior attention to detail and a strong ability to qa one's own work require, include cross browser and cross platform display and performance\"},\n",
       "  {'score': 0.13958558440208435,\n",
       "   'token': 1274,\n",
       "   'token_str': 'fast',\n",
       "   'sequence': \"develop cutting edge [MASK] application that perform fast across all platform. work in a highly collaborative environment with cross functional team on project range from a few week to a few month in length. maintain high standard of quality a you creatively and strategically problem solve throughout the product delivery process. be able to effectively communicate your work with both technical and non technical peersbe excite about new web technologiestechniquesbuild solid front end architecture that integrate easily with other system and technologiesworking closely with other discipline back end, ux, design, qahave a superior attention to detail and a strong ability to qa one's own work require, include cross browser and cross platform display and performance\"},\n",
       "  {'score': 0.06825180351734161,\n",
       "   'token': 1126,\n",
       "   'token_str': 'quickly',\n",
       "   'sequence': \"develop cutting edge [MASK] application that perform quickly across all platform. work in a highly collaborative environment with cross functional team on project range from a few week to a few month in length. maintain high standard of quality a you creatively and strategically problem solve throughout the product delivery process. be able to effectively communicate your work with both technical and non technical peersbe excite about new web technologiestechniquesbuild solid front end architecture that integrate easily with other system and technologiesworking closely with other discipline back end, ux, design, qahave a superior attention to detail and a strong ability to qa one's own work require, include cross browser and cross platform display and performance\"},\n",
       "  {'score': 0.03800935670733452,\n",
       "   'token': 1166,\n",
       "   'token_str': 'easily',\n",
       "   'sequence': \"develop cutting edge [MASK] application that perform easily across all platform. work in a highly collaborative environment with cross functional team on project range from a few week to a few month in length. maintain high standard of quality a you creatively and strategically problem solve throughout the product delivery process. be able to effectively communicate your work with both technical and non technical peersbe excite about new web technologiestechniquesbuild solid front end architecture that integrate easily with other system and technologiesworking closely with other discipline back end, ux, design, qahave a superior attention to detail and a strong ability to qa one's own work require, include cross browser and cross platform display and performance\"},\n",
       "  {'score': 0.034690290689468384,\n",
       "   'token': 6101,\n",
       "   'token_str': 'efficiently',\n",
       "   'sequence': \"develop cutting edge [MASK] application that perform efficiently across all platform. work in a highly collaborative environment with cross functional team on project range from a few week to a few month in length. maintain high standard of quality a you creatively and strategically problem solve throughout the product delivery process. be able to effectively communicate your work with both technical and non technical peersbe excite about new web technologiestechniquesbuild solid front end architecture that integrate easily with other system and technologiesworking closely with other discipline back end, ux, design, qahave a superior attention to detail and a strong ability to qa one's own work require, include cross browser and cross platform display and performance\"}]]"
      ]
     },
     "execution_count": 2,
     "metadata": {},
     "output_type": "execute_result"
    }
   ],
   "source": [
    "from transformers import pipeline, AutoTokenizer, AutoModelForMaskedLM\n",
    "tokenizer = AutoTokenizer.from_pretrained(\"microsoft/deberta-v3-large\")\n",
    "model = AutoModelForMaskedLM.from_pretrained(\"/home/sumiya/signate/student2022/code/deberta_v3_large/OUT_EX002/pre_train/compe2022-deberta-v3-large/\")\n",
    "unmasker = pipeline('fill-mask', model=model, tokenizer=tokenizer)\n",
    "unmasker(\"develop cutting edge [MASK] application that perform [MASK] across all platform . work in a highly collaborative environment with cross functional team on project range from a few week to a few month in length . maintain high standard of quality a you creatively and strategically problem solve throughout the product delivery process . be able to effectively communicate your work with both technical and non technical peersbe excite about new web technologiestechniquesbuild solid front end architecture that integrate easily with other system and technologiesworking closely with other discipline back end , ux , design , qahave a superior attention to detail and a strong ability to qa one's own work require , include cross browser and cross platform display and performance\")\n"
   ]
  }
 ],
 "metadata": {
  "kernelspec": {
   "display_name": "Python 3.9.2 64-bit",
   "language": "python",
   "name": "python3"
  },
  "language_info": {
   "codemirror_mode": {
    "name": "ipython",
    "version": 3
   },
   "file_extension": ".py",
   "mimetype": "text/x-python",
   "name": "python",
   "nbconvert_exporter": "python",
   "pygments_lexer": "ipython3",
   "version": "3.9.2"
  },
  "orig_nbformat": 4,
  "vscode": {
   "interpreter": {
    "hash": "aee8b7b246df8f9039afb4144a1f6fd8d2ca17a180786b69acc140d282b71a49"
   }
  }
 },
 "nbformat": 4,
 "nbformat_minor": 2
}
